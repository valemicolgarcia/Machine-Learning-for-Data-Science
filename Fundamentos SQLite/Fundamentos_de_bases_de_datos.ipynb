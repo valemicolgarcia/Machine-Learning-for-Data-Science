{
  "cells": [
    {
      "cell_type": "markdown",
      "metadata": {
        "id": "S5XOdMpZecHs"
      },
      "source": [
        "# SQL Lite\n",
        "\n",
        "SQLite es probablemente la base de datos más sencilla para conectarse con una aplicación de Python, ya que no necesita instalar ningún módulo SQL de Python externo para hacerlo. De manera predeterminada, su instalación de Python contiene una biblioteca SQL de Python llamada sqlite3 que puede usar para interactuar con una base de datos SQLite.\n",
        "\n",
        "Además, las bases de datos SQLite no tienen servidor y son independientes, ya que leen y escriben datos en un archivo. Esto significa que, a diferencia de MySQL y PostgreSQL, ¡ni siquiera necesita instalar y ejecutar un servidor SQLite para realizar operaciones de base de datos!\n",
        "\n",
        "Conexion a sqlite3 con una base de datos en Python:"
      ]
    },
    {
      "cell_type": "code",
      "execution_count": 1,
      "metadata": {
        "id": "0Q-u6bE9ec_a"
      },
      "outputs": [],
      "source": [
        "import sqlite3\n",
        "from sqlite3 import Error # Importar librerias\n",
        "\n",
        "def create_connection(path): # Definir funcion crear conexion\n",
        "    connection = None\n",
        "    try:\n",
        "        connection = sqlite3.connect(path) # uso de connect() que recibe una ruta a la base de datos SQLLite (puede estar en la ram o no)\n",
        "        print(\"Conexion a SQLite DB exitosa\") # Si la conexion es exitosa se imprime\n",
        "    except Error as e: # Si existe algun error\n",
        "        print(f\"El error '{e}' ha ocurrido\") # mostrar el error\n",
        "    return connection"
      ]
    },
    {
      "cell_type": "markdown",
      "metadata": {
        "id": "-T4lyhGtfCLK"
      },
      "source": [
        "```sqlite3.connect(ruta)``` devuelve un objeto de conexión, que a su vez es devuelto por ```create_connection()```. Este objeto de conexión se puede utilizar para ejecutar consultas en una base de datos SQLite. El siguiente script crea una conexión a la base de datos SQLite:"
      ]
    },
    {
      "cell_type": "code",
      "execution_count": 13,
      "metadata": {
        "colab": {
          "base_uri": "https://localhost:8080/"
        },
        "id": "8qW2YUR-fbMY",
        "outputId": "8a028857-aa73-4d12-b66d-7ca443f4dcbf"
      },
      "outputs": [
        {
          "name": "stdout",
          "output_type": "stream",
          "text": [
            "Conexion a SQLite DB exitosa\n"
          ]
        }
      ],
      "source": [
        "connection = create_connection(\"C:\\\\Users\\\\VICTUS\\\\Documents\\\\2024\\\\MACHINE LEARNING FOR DATA SCIENCE\\\\Datos\\\\SQL\\\\david.sqlite\") #mando la ruta al archivo de la base de datos sqlite"
      ]
    },
    {
      "cell_type": "code",
      "execution_count": 14,
      "metadata": {
        "colab": {
          "base_uri": "https://localhost:8080/"
        },
        "id": "8U9N7UfMaAPw",
        "outputId": "cc45fb28-d50f-4a46-8d94-1b9c45206124"
      },
      "outputs": [
        {
          "name": "stdout",
          "output_type": "stream",
          "text": [
            "Conexion a SQLite DB exitosa\n"
          ]
        }
      ],
      "source": [
        "# Puede tener cualquier nombre\n",
        "import sqlite3 as sql\n",
        "connection = create_connection('david.sqlite')"
      ]
    },
    {
      "cell_type": "markdown",
      "metadata": {
        "id": "4Gut-NXsfjkI"
      },
      "source": [
        "Ahora se crea un archivo de base de datos sm_app.sqlite en el directorio raíz. Tenga en cuenta que puede cambiar la ubicación para que coincida con su configuración."
      ]
    },
    {
      "cell_type": "markdown",
      "metadata": {
        "id": "dyqNm9efgMo2"
      },
      "source": [
        "# Crear tablas SQL Lite\n",
        "\n",
        "Para ejecutar consultas en SQLite, debemos usar ```cursor.execute()```. Definiremos una función llamada ```execute_query()``` que usa este método. Su función aceptará el objeto de conexión y una cadena de consulta, que pasará a ```cursor.execute()```.\n",
        "\n",
        "```.execute()``` puede ejecutar cualquier consulta que se le pase en forma de string."
      ]
    },
    {
      "cell_type": "code",
      "execution_count": 15,
      "metadata": {
        "id": "A1X-PpLrgOVp"
      },
      "outputs": [],
      "source": [
        "def execute_query(connection, query): #funcion que acepta objeto de conexion y una cadena de consulta que pasa a cursor.execute()\n",
        "    cursor = connection.cursor()\n",
        "    try:\n",
        "        cursor.execute(query) #para ejecutar consultas en SQLite, recibe strings\n",
        "        connection.commit()\n",
        "        print(\"Query ejecutado satisfactoriamente\")\n",
        "    except Error as e:\n",
        "        print(f\"El error '{e}' ha ocurrido\")"
      ]
    },
    {
      "cell_type": "markdown",
      "metadata": {
        "id": "_TNAxoJ6gw3u"
      },
      "source": [
        "Creamos el query"
      ]
    },
    {
      "cell_type": "code",
      "execution_count": 16,
      "metadata": {
        "id": "0RgAnHYzgyHY"
      },
      "outputs": [],
      "source": [
        "crear_tabla_usuarios = \"\"\"\n",
        "CREATE TABLE IF NOT EXISTS users (\n",
        "  id INTEGER PRIMARY KEY AUTOINCREMENT,\n",
        "  name TEXT NOT NULL,\n",
        "  age INTEGER,\n",
        "  gender TEXT,\n",
        "  nationality TEXT\n",
        ");\n",
        "\"\"\""
      ]
    },
    {
      "cell_type": "code",
      "execution_count": 17,
      "metadata": {
        "colab": {
          "base_uri": "https://localhost:8080/"
        },
        "id": "W5KkugPhg3g0",
        "outputId": "caf4c84e-ce47-4dab-987c-5507409c1b63"
      },
      "outputs": [
        {
          "name": "stdout",
          "output_type": "stream",
          "text": [
            "Query ejecutado satisfactoriamente\n"
          ]
        }
      ],
      "source": [
        "execute_query(connection, crear_tabla_usuarios)"
      ]
    },
    {
      "cell_type": "code",
      "execution_count": 18,
      "metadata": {
        "id": "WUBwWVTghQgt"
      },
      "outputs": [],
      "source": [
        "crear_tabla_posts = \"\"\"\n",
        "CREATE TABLE IF NOT EXISTS posts(\n",
        "  id INTEGER PRIMARY KEY AUTOINCREMENT,\n",
        "  title TEXT NOT NULL,\n",
        "  description TEXT NOT NULL,\n",
        "  user_id INTEGER NOT NULL,\n",
        "  FOREIGN KEY (user_id) REFERENCES users (id)\n",
        ");\n",
        "\"\"\"\n",
        "# Dado que existe una relación de uno a muchos entre los usuarios y las publicaciones,\n",
        "# veran una clave externa user_id en la tabla de publicaciones que hace referencia\n",
        "# a la columna de identificación en la tabla de usuarios."
      ]
    },
    {
      "cell_type": "code",
      "execution_count": 19,
      "metadata": {
        "colab": {
          "base_uri": "https://localhost:8080/"
        },
        "id": "N2VF7x4IhiVw",
        "outputId": "1d2d99fe-83fd-453d-d000-7817176dff01"
      },
      "outputs": [
        {
          "name": "stdout",
          "output_type": "stream",
          "text": [
            "Query ejecutado satisfactoriamente\n"
          ]
        }
      ],
      "source": [
        "execute_query(connection, crear_tabla_posts)"
      ]
    },
    {
      "cell_type": "markdown",
      "metadata": {
        "id": "ePb_M8_5iTrL"
      },
      "source": [
        "Creamos dos tablas"
      ]
    },
    {
      "cell_type": "code",
      "execution_count": 20,
      "metadata": {
        "colab": {
          "base_uri": "https://localhost:8080/"
        },
        "id": "yTSGiU76iU5E",
        "outputId": "3d61f25d-8215-4dba-8e21-71eaae60f901"
      },
      "outputs": [
        {
          "name": "stdout",
          "output_type": "stream",
          "text": [
            "Query ejecutado satisfactoriamente\n",
            "Query ejecutado satisfactoriamente\n"
          ]
        }
      ],
      "source": [
        "crear_tabla_comentarios = \"\"\"\n",
        "CREATE TABLE IF NOT EXISTS comments (\n",
        "  id INTEGER PRIMARY KEY AUTOINCREMENT,\n",
        "  text TEXT NOT NULL,\n",
        "  user_id INTEGER NOT NULL,\n",
        "  post_id INTEGER NOT NULL,\n",
        "  FOREIGN KEY (user_id) REFERENCES users (id) FOREIGN KEY (post_id) REFERENCES posts (id)\n",
        ");\n",
        "\"\"\"\n",
        "\n",
        "crear_tabla_likes = \"\"\"\n",
        "CREATE TABLE IF NOT EXISTS likes (\n",
        "  id INTEGER PRIMARY KEY AUTOINCREMENT,\n",
        "  user_id INTEGER NOT NULL,\n",
        "  post_id integer NOT NULL,\n",
        "  FOREIGN KEY (user_id) REFERENCES users (id) FOREIGN KEY (post_id) REFERENCES posts (id)\n",
        ");\n",
        "\"\"\"\n",
        "\n",
        "execute_query(connection, crear_tabla_comentarios)\n",
        "execute_query(connection, crear_tabla_likes)"
      ]
    },
    {
      "cell_type": "markdown",
      "metadata": {
        "id": "B5iq3axBipnW"
      },
      "source": [
        "# Insertar records"
      ]
    },
    {
      "cell_type": "code",
      "execution_count": 21,
      "metadata": {
        "colab": {
          "base_uri": "https://localhost:8080/"
        },
        "id": "GRWi9xh9iq-X",
        "outputId": "73b6fd8a-c4a0-4184-c03f-62cf9a93580e"
      },
      "outputs": [
        {
          "name": "stdout",
          "output_type": "stream",
          "text": [
            "Query ejecutado satisfactoriamente\n"
          ]
        }
      ],
      "source": [
        "crear_usuarios = \"\"\"\n",
        "INSERT INTO\n",
        "  users (name, age, gender, nationality) \n",
        "VALUES\n",
        "  ('James', 25, 'hombre', 'USA'),\n",
        "  ('Leila', 32, 'mujer', 'France'),\n",
        "  ('Brigitte', 35, 'mujer', 'England'),\n",
        "  ('Mike', 40, 'hombre', 'Denmark'),\n",
        "  ('Elizabeth', 21, 'mujer', 'Canada');\n",
        "\"\"\"\n",
        "execute_query(connection, crear_usuarios)"
      ]
    },
    {
      "cell_type": "markdown",
      "metadata": {
        "id": "XXBL38HrjBO6"
      },
      "source": [
        "Como configuramos el id para que se incremente automáticamente, no necesita especificar el valor de la columna de identificación para estos usuarios. La tabla de usuarios completará automáticamente estos cinco registros con valores de identificación del 1 al 5."
      ]
    },
    {
      "cell_type": "code",
      "execution_count": 22,
      "metadata": {
        "colab": {
          "base_uri": "https://localhost:8080/"
        },
        "id": "ba4-iilri-a8",
        "outputId": "8fcdfa54-5c78-4e95-d168-32b08737d0fc"
      },
      "outputs": [
        {
          "name": "stdout",
          "output_type": "stream",
          "text": [
            "Query ejecutado satisfactoriamente\n"
          ]
        }
      ],
      "source": [
        "crear_posts = \"\"\"\n",
        "INSERT INTO\n",
        "  posts (title, description, user_id)\n",
        "VALUES\n",
        "  (\"Feliz\", \"Me siento feliz hoy\", 1),\n",
        "  (\"Caliente\", \"El clima esta caliente hoy\", 2),\n",
        "  (\"Ayuda\", \"Necesito ayuda en esto\", 2),\n",
        "  (\"Buenas noticias\", \"Me casare pronto\", 1),\n",
        "  (\"Juego interesante\", \"Fue genial jugar al tenis\", 5),\n",
        "  (\"Fiesta\", \"Alguno quiere venir a esta fiesta hoy?\", 3);\n",
        "\"\"\"\n",
        "execute_query(connection, crear_posts)"
      ]
    },
    {
      "cell_type": "markdown",
      "metadata": {
        "id": "dplkrHcFjkUu"
      },
      "source": [
        "Es importante mencionar que la columna ```user_id``` de la tabla de publicaciones es una **llave foranea** que hace referencia a la columna **id** de la tabla de usuarios. Esto significa que la columna ```user_id``` debe contener un valor que ya existe en la columna ```id`` de la tabla de usuarios. Si no existe, habrá un error."
      ]
    },
    {
      "cell_type": "code",
      "execution_count": 23,
      "metadata": {
        "colab": {
          "base_uri": "https://localhost:8080/"
        },
        "id": "cpyj35lUjhai",
        "outputId": "4b2a880c-1968-44cc-9636-f69bf7215ef4"
      },
      "outputs": [
        {
          "name": "stdout",
          "output_type": "stream",
          "text": [
            "Query ejecutado satisfactoriamente\n",
            "Query ejecutado satisfactoriamente\n"
          ]
        }
      ],
      "source": [
        "crear_comentarios = \"\"\"\n",
        "INSERT INTO\n",
        "  comments (text, user_id, post_id)\n",
        "VALUES\n",
        "  ('Cuenta conmigo', 1, 6),\n",
        "  ('Que tipo de ayuda?', 5, 3),\n",
        "  ('Felicitaciones', 2, 4),\n",
        "  ('Estuve jugando con Rafael', 4, 5),\n",
        "  ('Te ayudo con tu tesis?', 2, 3),\n",
        "  ('Muchas felicitaciones', 5, 4);\n",
        "\"\"\"\n",
        "\n",
        "crear_likes = \"\"\"\n",
        "INSERT INTO\n",
        "  likes (user_id, post_id)\n",
        "VALUES\n",
        "  (1, 6),\n",
        "  (2, 3),\n",
        "  (1, 5),\n",
        "  (5, 4),\n",
        "  (2, 4),\n",
        "  (4, 2),\n",
        "  (3, 6);\n",
        "\"\"\"\n",
        "\n",
        "execute_query(connection, crear_comentarios)\n",
        "execute_query(connection, crear_likes)"
      ]
    },
    {
      "cell_type": "markdown",
      "metadata": {
        "id": "d9fc4S7GkLIF"
      },
      "source": [
        "# Seleccionando records"
      ]
    },
    {
      "cell_type": "code",
      "execution_count": 24,
      "metadata": {
        "id": "WEWgaW3YkMZe"
      },
      "outputs": [],
      "source": [
        "def execute_read_query(connection, query):\n",
        "    cursor = connection.cursor()\n",
        "    result = None\n",
        "    try:\n",
        "        cursor.execute(query)\n",
        "        result = cursor.fetchall()\n",
        "        return result\n",
        "    except Error as e:\n",
        "        print(f\"Error '{e}' ha ocurrido\")"
      ]
    },
    {
      "cell_type": "code",
      "execution_count": 25,
      "metadata": {
        "colab": {
          "base_uri": "https://localhost:8080/"
        },
        "id": "3ShOFAoTkWNz",
        "outputId": "b4d33cd3-591c-4921-c6b9-feced2c62c31"
      },
      "outputs": [
        {
          "name": "stdout",
          "output_type": "stream",
          "text": [
            "(1, 'James', 25, 'hombre', 'USA')\n",
            "(2, 'Leila', 32, 'mujer', 'France')\n",
            "(3, 'Brigitte', 35, 'mujer', 'England')\n",
            "(4, 'Mike', 40, 'hombre', 'Denmark')\n",
            "(5, 'Elizabeth', 21, 'mujer', 'Canada')\n"
          ]
        }
      ],
      "source": [
        "elegir_usuarios = \"SELECT * from users\"\n",
        "users = execute_read_query(connection, elegir_usuarios)\n",
        "\n",
        "for user in users:\n",
        "    print(user)"
      ]
    },
    {
      "cell_type": "code",
      "execution_count": 26,
      "metadata": {
        "colab": {
          "base_uri": "https://localhost:8080/"
        },
        "id": "WB1hhJgAkmzZ",
        "outputId": "79f3d254-724f-4bf7-c576-c949958644e1"
      },
      "outputs": [
        {
          "name": "stdout",
          "output_type": "stream",
          "text": [
            "(1, 'Feliz', 'Me siento feliz hoy', 1)\n",
            "(2, 'Caliente', 'El clima esta caliente hoy', 2)\n",
            "(3, 'Ayuda', 'Necesito ayuda en esto', 2)\n",
            "(4, 'Buenas noticias', 'Me casare pronto', 1)\n",
            "(5, 'Juego interesante', 'Fue genial jugar al tenis', 5)\n",
            "(6, 'Fiesta', 'Alguno quiere venir a esta fiesta hoy?', 3)\n"
          ]
        }
      ],
      "source": [
        "elegir_posts = \"SELECT * FROM posts\"\n",
        "posts = execute_read_query(connection, elegir_posts)\n",
        "\n",
        "for post in posts:\n",
        "    print(post)"
      ]
    },
    {
      "cell_type": "code",
      "execution_count": 27,
      "metadata": {
        "colab": {
          "base_uri": "https://localhost:8080/"
        },
        "id": "cYmQyFa6kuJc",
        "outputId": "4c467a2a-0c47-4881-9f13-8c94e515b1b9"
      },
      "outputs": [
        {
          "name": "stdout",
          "output_type": "stream",
          "text": [
            "(1, 'James', 'Me siento feliz hoy')\n",
            "(2, 'Leila', 'El clima esta caliente hoy')\n",
            "(2, 'Leila', 'Necesito ayuda en esto')\n",
            "(1, 'James', 'Me casare pronto')\n",
            "(5, 'Elizabeth', 'Fue genial jugar al tenis')\n",
            "(3, 'Brigitte', 'Alguno quiere venir a esta fiesta hoy?')\n"
          ]
        }
      ],
      "source": [
        "joins_usuarios_posts = \"\"\"\n",
        "SELECT\n",
        "  users.id,\n",
        "  users.name,\n",
        "  posts.description\n",
        "FROM\n",
        "  posts\n",
        "  INNER JOIN users ON users.id = posts.user_id\n",
        "\"\"\"\n",
        "\n",
        "usuarios_posts = execute_read_query(connection, joins_usuarios_posts)\n",
        "\n",
        "for x in usuarios_posts:\n",
        "    print(x)"
      ]
    },
    {
      "cell_type": "markdown",
      "metadata": {
        "id": "K-dogfQTlE5v"
      },
      "source": [
        "El siguiente script devuelve todas las publicaciones, junto con los comentarios sobre las publicaciones y los nombres de los usuarios que publicaron los comentarios:"
      ]
    },
    {
      "cell_type": "code",
      "execution_count": 29,
      "metadata": {
        "colab": {
          "base_uri": "https://localhost:8080/"
        },
        "id": "anlj5Hv8lHj_",
        "outputId": "bf2c1c4a-c6e9-46d7-8bc7-094a5035c0bf"
      },
      "outputs": [
        {
          "name": "stdout",
          "output_type": "stream",
          "text": [
            "('Alguno quiere venir a esta fiesta hoy?', 'Cuenta conmigo', 'James')\n",
            "('Necesito ayuda en esto', 'Que tipo de ayuda?', 'Elizabeth')\n",
            "('Me casare pronto', 'Felicitaciones', 'Leila')\n",
            "('Fue genial jugar al tenis', 'Estuve jugando con Rafael', 'Mike')\n",
            "('Necesito ayuda en esto', 'Te ayudo con tu tesis?', 'Leila')\n",
            "('Me casare pronto', 'Muchas felicitaciones', 'Elizabeth')\n"
          ]
        }
      ],
      "source": [
        "elegir_publicaciones_comentarios_usuarios = \"\"\"\n",
        "SELECT\n",
        "  posts.description as post,\n",
        "  text as comment,\n",
        "  name\n",
        "FROM\n",
        "  posts\n",
        "  INNER JOIN comments ON posts.id = comments.post_id\n",
        "  INNER JOIN users ON users.id = comments.user_id\n",
        "\"\"\"\n",
        "\n",
        "p_c_u = execute_read_query(\n",
        "    connection, elegir_publicaciones_comentarios_usuarios\n",
        ")\n",
        "\n",
        "for y in p_c_u:\n",
        "    print(y)"
      ]
    },
    {
      "cell_type": "markdown",
      "metadata": {
        "id": "5Y1OumhHldG9"
      },
      "source": [
        "Pueden ver en la salida que ```.fetchall()``` no devuelve los nombres de las columnas. Para devolver los nombres de las columnas, podemos usar el atributo ```.description```. Por ejemplo, la siguiente lista devuelve todos los nombres de columna para la consulta anterior:\n"
      ]
    },
    {
      "cell_type": "code",
      "execution_count": 30,
      "metadata": {
        "colab": {
          "base_uri": "https://localhost:8080/"
        },
        "id": "geWvC5HylmDM",
        "outputId": "b2af8a74-163d-40d9-c852-f0afe58bc51e"
      },
      "outputs": [
        {
          "name": "stdout",
          "output_type": "stream",
          "text": [
            "['post', 'comment', 'name']\n"
          ]
        }
      ],
      "source": [
        "cursor = connection.cursor()\n",
        "cursor.execute(elegir_publicaciones_comentarios_usuarios)\n",
        "cursor.fetchall()\n",
        "\n",
        "columnas = [description[0] for description in cursor.description]\n",
        "print(columnas)"
      ]
    },
    {
      "cell_type": "code",
      "execution_count": null,
      "metadata": {
        "colab": {
          "base_uri": "https://localhost:8080/"
        },
        "id": "UBWCgxJz0Sv_",
        "outputId": "de69839f-3c83-4b02-f9ed-436db1484936"
      },
      "outputs": [
        {
          "name": "stdout",
          "output_type": "stream",
          "text": [
            "Looking in indexes: https://pypi.org/simple, https://us-python.pkg.dev/colab-wheels/public/simple/\n",
            "Collecting git+https://github.com/psychemedia/eralchemy.git\n",
            "  Cloning https://github.com/psychemedia/eralchemy.git to /tmp/pip-req-build-_4bj8zoe\n",
            "  Running command git clone -q https://github.com/psychemedia/eralchemy.git /tmp/pip-req-build-_4bj8zoe\n",
            "Building wheels for collected packages: ERAlchemy\n",
            "  Building wheel for ERAlchemy (setup.py) ... \u001b[?25l\u001b[?25hdone\n",
            "  Created wheel for ERAlchemy: filename=ERAlchemy-1.2.9-py2.py3-none-any.whl size=16035 sha256=b9dcf6cab0acfb9c646ef5df438f1aac5617e3b2bd2d8f4bdb620956a6cbfe79\n",
            "  Stored in directory: /tmp/pip-ephem-wheel-cache-_jbp9zla/wheels/37/8e/98/e2d119e6234149b152b3944b4504c85d43d00c7299615151f4\n",
            "Successfully built ERAlchemy\n",
            "Installing collected packages: ERAlchemy\n",
            "Successfully installed ERAlchemy-1.2.9\n"
          ]
        }
      ],
      "source": [
        "!pip install --upgrade --no-deps git+https://github.com/psychemedia/eralchemy.git"
      ]
    },
    {
      "cell_type": "code",
      "execution_count": null,
      "metadata": {
        "colab": {
          "base_uri": "https://localhost:8080/"
        },
        "id": "vx2pwfVj1xKM",
        "outputId": "d0f691ed-c5e0-4407-f27a-d869628ca51e"
      },
      "outputs": [
        {
          "name": "stdout",
          "output_type": "stream",
          "text": [
            "Looking in indexes: https://pypi.org/simple, https://us-python.pkg.dev/colab-wheels/public/simple/\n",
            "Collecting configparser\n",
            "  Downloading configparser-5.3.0-py3-none-any.whl (19 kB)\n",
            "Installing collected packages: configparser\n",
            "Successfully installed configparser-5.3.0\n",
            "Looking in indexes: https://pypi.org/simple, https://us-python.pkg.dev/colab-wheels/public/simple/\n",
            "Requirement already satisfied: sqlalchemy in /usr/local/lib/python3.7/dist-packages (1.4.42)\n",
            "Requirement already satisfied: greenlet!=0.4.17 in /usr/local/lib/python3.7/dist-packages (from sqlalchemy) (1.1.3.post0)\n",
            "Requirement already satisfied: importlib-metadata in /usr/local/lib/python3.7/dist-packages (from sqlalchemy) (4.13.0)\n",
            "Requirement already satisfied: typing-extensions>=3.6.4 in /usr/local/lib/python3.7/dist-packages (from importlib-metadata->sqlalchemy) (4.1.1)\n",
            "Requirement already satisfied: zipp>=0.5 in /usr/local/lib/python3.7/dist-packages (from importlib-metadata->sqlalchemy) (3.10.0)\n",
            "Looking in indexes: https://pypi.org/simple, https://us-python.pkg.dev/colab-wheels/public/simple/\n",
            "Requirement already satisfied: pydot in /usr/local/lib/python3.7/dist-packages (1.3.0)\n",
            "Requirement already satisfied: pyparsing>=2.1.4 in /usr/local/lib/python3.7/dist-packages (from pydot) (3.0.9)\n",
            "Looking in indexes: https://pypi.org/simple, https://us-python.pkg.dev/colab-wheels/public/simple/\n",
            "Collecting sqlalchemy_schemadisplay\n",
            "  Downloading sqlalchemy_schemadisplay-1.3.zip (11 kB)\n",
            "Requirement already satisfied: setuptools in /usr/local/lib/python3.7/dist-packages (from sqlalchemy_schemadisplay) (57.4.0)\n",
            "Requirement already satisfied: pydot in /usr/local/lib/python3.7/dist-packages (from sqlalchemy_schemadisplay) (1.3.0)\n",
            "Requirement already satisfied: pyparsing>=2.1.4 in /usr/local/lib/python3.7/dist-packages (from pydot->sqlalchemy_schemadisplay) (3.0.9)\n",
            "Building wheels for collected packages: sqlalchemy-schemadisplay\n",
            "  Building wheel for sqlalchemy-schemadisplay (setup.py) ... \u001b[?25l\u001b[?25hdone\n",
            "  Created wheel for sqlalchemy-schemadisplay: filename=sqlalchemy_schemadisplay-1.3-py3-none-any.whl size=5928 sha256=8bc6d0571c1b532b482722524a5913d895d66fb13242cc72b1cac001cbb1ab14\n",
            "  Stored in directory: /root/.cache/pip/wheels/b7/82/ef/3cb656a5fe084a0c96566ad2aeacdb730e592830ad76ada394\n",
            "Successfully built sqlalchemy-schemadisplay\n",
            "Installing collected packages: sqlalchemy-schemadisplay\n",
            "Successfully installed sqlalchemy-schemadisplay-1.3\n",
            "Looking in indexes: https://pypi.org/simple, https://us-python.pkg.dev/colab-wheels/public/simple/\n",
            "Requirement already satisfied: graphviz in /usr/local/lib/python3.7/dist-packages (0.10.1)\n"
          ]
        }
      ],
      "source": [
        "!pip install configparser\n",
        "! pip install sqlalchemy\n",
        "! pip install pydot\n",
        "! pip install sqlalchemy_schemadisplay\n",
        "! pip install graphviz"
      ]
    }
  ],
  "metadata": {
    "colab": {
      "provenance": []
    },
    "kernelspec": {
      "display_name": "Python 3",
      "name": "python3"
    },
    "language_info": {
      "codemirror_mode": {
        "name": "ipython",
        "version": 3
      },
      "file_extension": ".py",
      "mimetype": "text/x-python",
      "name": "python",
      "nbconvert_exporter": "python",
      "pygments_lexer": "ipython3",
      "version": "3.11.9"
    }
  },
  "nbformat": 4,
  "nbformat_minor": 0
}
