{
  "nbformat": 4,
  "nbformat_minor": 0,
  "metadata": {
    "kernelspec": {
      "display_name": "Python 3",
      "language": "python",
      "name": "python3"
    },
    "language_info": {
      "codemirror_mode": {
        "name": "ipython",
        "version": 3
      },
      "file_extension": ".py",
      "mimetype": "text/x-python",
      "name": "python",
      "nbconvert_exporter": "python",
      "pygments_lexer": "ipython3",
      "version": "3.8.5"
    },
    "varInspector": {
      "cols": {
        "lenName": 16,
        "lenType": 16,
        "lenVar": 40
      },
      "kernels_config": {
        "python": {
          "delete_cmd_postfix": "",
          "delete_cmd_prefix": "del ",
          "library": "var_list.py",
          "varRefreshCmd": "print(var_dic_list())"
        },
        "r": {
          "delete_cmd_postfix": ") ",
          "delete_cmd_prefix": "rm(",
          "library": "var_list.r",
          "varRefreshCmd": "cat(var_dic_list()) "
        }
      },
      "types_to_exclude": [
        "module",
        "function",
        "builtin_function_or_method",
        "instance",
        "_Feature"
      ],
      "window_display": false
    },
    "colab": {
      "provenance": []
    }
  },
  "cells": [
    {
      "cell_type": "markdown",
      "metadata": {
        "id": "aRuokaK3FHTH"
      },
      "source": [
        "# **PCA Regresión**"
      ]
    },
    {
      "cell_type": "code",
      "metadata": {
        "id": "3FMaxgE9FHTK"
      },
      "source": [
        "#Importamos las librerias\n",
        "import numpy as np\n",
        "import matplotlib.pyplot as plt\n",
        "import pandas as pd"
      ],
      "execution_count": null,
      "outputs": []
    },
    {
      "cell_type": "markdown",
      "metadata": {
        "id": "fYEvlW_VFHTL"
      },
      "source": [
        "Para este ejemplo utilizaremos un conjunto de datos de una colección de vinos con 13 variables independientes y una variable dependiente, que nos da la clasificación del vino. Las variables independientes son valores característicos del vino en cuestión y que van desde el alcohol, el aroma, el sabor, la acidez, y otros componentes o ingredientes que clasifican un vino."
      ]
    },
    {
      "cell_type": "code",
      "metadata": {
        "colab": {
          "base_uri": "https://localhost:8080/",
          "height": 206
        },
        "id": "_ZZwpghWFHTN",
        "outputId": "82a703d5-7ec1-497f-9a50-7dbb18ddefc8"
      },
      "source": [
        "url='https://raw.githubusercontent.com/Geerdata/DS/main/Datacoder/Arc.%20Modelo/Wine.csv'\n",
        "dataset= pd.read_csv(url,sep=',')\n",
        "dataset.head()"
      ],
      "execution_count": null,
      "outputs": [
        {
          "output_type": "execute_result",
          "data": {
            "text/plain": [
              "   Alcohol  Malic_Acid   Ash  Ash_Alcanity  Magnesium  Total_Phenols  \\\n",
              "0    14.23        1.71  2.43          15.6        127           2.80   \n",
              "1    13.20        1.78  2.14          11.2        100           2.65   \n",
              "2    13.16        2.36  2.67          18.6        101           2.80   \n",
              "3    14.37        1.95  2.50          16.8        113           3.85   \n",
              "4    13.24        2.59  2.87          21.0        118           2.80   \n",
              "\n",
              "   Flavanoids  Nonflavanoid_Phenols  Proanthocyanins  Color_Intensity   Hue  \\\n",
              "0        3.06                  0.28             2.29             5.64  1.04   \n",
              "1        2.76                  0.26             1.28             4.38  1.05   \n",
              "2        3.24                  0.30             2.81             5.68  1.03   \n",
              "3        3.49                  0.24             2.18             7.80  0.86   \n",
              "4        2.69                  0.39             1.82             4.32  1.04   \n",
              "\n",
              "   OD280  Proline  Customer_Segment  \n",
              "0   3.92     1065                 1  \n",
              "1   3.40     1050                 1  \n",
              "2   3.17     1185                 1  \n",
              "3   3.45     1480                 1  \n",
              "4   2.93      735                 1  "
            ],
            "text/html": [
              "\n",
              "  <div id=\"df-3b2a5275-b21a-4f81-90ff-b9f16c6c735d\" class=\"colab-df-container\">\n",
              "    <div>\n",
              "<style scoped>\n",
              "    .dataframe tbody tr th:only-of-type {\n",
              "        vertical-align: middle;\n",
              "    }\n",
              "\n",
              "    .dataframe tbody tr th {\n",
              "        vertical-align: top;\n",
              "    }\n",
              "\n",
              "    .dataframe thead th {\n",
              "        text-align: right;\n",
              "    }\n",
              "</style>\n",
              "<table border=\"1\" class=\"dataframe\">\n",
              "  <thead>\n",
              "    <tr style=\"text-align: right;\">\n",
              "      <th></th>\n",
              "      <th>Alcohol</th>\n",
              "      <th>Malic_Acid</th>\n",
              "      <th>Ash</th>\n",
              "      <th>Ash_Alcanity</th>\n",
              "      <th>Magnesium</th>\n",
              "      <th>Total_Phenols</th>\n",
              "      <th>Flavanoids</th>\n",
              "      <th>Nonflavanoid_Phenols</th>\n",
              "      <th>Proanthocyanins</th>\n",
              "      <th>Color_Intensity</th>\n",
              "      <th>Hue</th>\n",
              "      <th>OD280</th>\n",
              "      <th>Proline</th>\n",
              "      <th>Customer_Segment</th>\n",
              "    </tr>\n",
              "  </thead>\n",
              "  <tbody>\n",
              "    <tr>\n",
              "      <th>0</th>\n",
              "      <td>14.23</td>\n",
              "      <td>1.71</td>\n",
              "      <td>2.43</td>\n",
              "      <td>15.6</td>\n",
              "      <td>127</td>\n",
              "      <td>2.80</td>\n",
              "      <td>3.06</td>\n",
              "      <td>0.28</td>\n",
              "      <td>2.29</td>\n",
              "      <td>5.64</td>\n",
              "      <td>1.04</td>\n",
              "      <td>3.92</td>\n",
              "      <td>1065</td>\n",
              "      <td>1</td>\n",
              "    </tr>\n",
              "    <tr>\n",
              "      <th>1</th>\n",
              "      <td>13.20</td>\n",
              "      <td>1.78</td>\n",
              "      <td>2.14</td>\n",
              "      <td>11.2</td>\n",
              "      <td>100</td>\n",
              "      <td>2.65</td>\n",
              "      <td>2.76</td>\n",
              "      <td>0.26</td>\n",
              "      <td>1.28</td>\n",
              "      <td>4.38</td>\n",
              "      <td>1.05</td>\n",
              "      <td>3.40</td>\n",
              "      <td>1050</td>\n",
              "      <td>1</td>\n",
              "    </tr>\n",
              "    <tr>\n",
              "      <th>2</th>\n",
              "      <td>13.16</td>\n",
              "      <td>2.36</td>\n",
              "      <td>2.67</td>\n",
              "      <td>18.6</td>\n",
              "      <td>101</td>\n",
              "      <td>2.80</td>\n",
              "      <td>3.24</td>\n",
              "      <td>0.30</td>\n",
              "      <td>2.81</td>\n",
              "      <td>5.68</td>\n",
              "      <td>1.03</td>\n",
              "      <td>3.17</td>\n",
              "      <td>1185</td>\n",
              "      <td>1</td>\n",
              "    </tr>\n",
              "    <tr>\n",
              "      <th>3</th>\n",
              "      <td>14.37</td>\n",
              "      <td>1.95</td>\n",
              "      <td>2.50</td>\n",
              "      <td>16.8</td>\n",
              "      <td>113</td>\n",
              "      <td>3.85</td>\n",
              "      <td>3.49</td>\n",
              "      <td>0.24</td>\n",
              "      <td>2.18</td>\n",
              "      <td>7.80</td>\n",
              "      <td>0.86</td>\n",
              "      <td>3.45</td>\n",
              "      <td>1480</td>\n",
              "      <td>1</td>\n",
              "    </tr>\n",
              "    <tr>\n",
              "      <th>4</th>\n",
              "      <td>13.24</td>\n",
              "      <td>2.59</td>\n",
              "      <td>2.87</td>\n",
              "      <td>21.0</td>\n",
              "      <td>118</td>\n",
              "      <td>2.80</td>\n",
              "      <td>2.69</td>\n",
              "      <td>0.39</td>\n",
              "      <td>1.82</td>\n",
              "      <td>4.32</td>\n",
              "      <td>1.04</td>\n",
              "      <td>2.93</td>\n",
              "      <td>735</td>\n",
              "      <td>1</td>\n",
              "    </tr>\n",
              "  </tbody>\n",
              "</table>\n",
              "</div>\n",
              "    <div class=\"colab-df-buttons\">\n",
              "\n",
              "  <div class=\"colab-df-container\">\n",
              "    <button class=\"colab-df-convert\" onclick=\"convertToInteractive('df-3b2a5275-b21a-4f81-90ff-b9f16c6c735d')\"\n",
              "            title=\"Convert this dataframe to an interactive table.\"\n",
              "            style=\"display:none;\">\n",
              "\n",
              "  <svg xmlns=\"http://www.w3.org/2000/svg\" height=\"24px\" viewBox=\"0 -960 960 960\">\n",
              "    <path d=\"M120-120v-720h720v720H120Zm60-500h600v-160H180v160Zm220 220h160v-160H400v160Zm0 220h160v-160H400v160ZM180-400h160v-160H180v160Zm440 0h160v-160H620v160ZM180-180h160v-160H180v160Zm440 0h160v-160H620v160Z\"/>\n",
              "  </svg>\n",
              "    </button>\n",
              "\n",
              "  <style>\n",
              "    .colab-df-container {\n",
              "      display:flex;\n",
              "      gap: 12px;\n",
              "    }\n",
              "\n",
              "    .colab-df-convert {\n",
              "      background-color: #E8F0FE;\n",
              "      border: none;\n",
              "      border-radius: 50%;\n",
              "      cursor: pointer;\n",
              "      display: none;\n",
              "      fill: #1967D2;\n",
              "      height: 32px;\n",
              "      padding: 0 0 0 0;\n",
              "      width: 32px;\n",
              "    }\n",
              "\n",
              "    .colab-df-convert:hover {\n",
              "      background-color: #E2EBFA;\n",
              "      box-shadow: 0px 1px 2px rgba(60, 64, 67, 0.3), 0px 1px 3px 1px rgba(60, 64, 67, 0.15);\n",
              "      fill: #174EA6;\n",
              "    }\n",
              "\n",
              "    .colab-df-buttons div {\n",
              "      margin-bottom: 4px;\n",
              "    }\n",
              "\n",
              "    [theme=dark] .colab-df-convert {\n",
              "      background-color: #3B4455;\n",
              "      fill: #D2E3FC;\n",
              "    }\n",
              "\n",
              "    [theme=dark] .colab-df-convert:hover {\n",
              "      background-color: #434B5C;\n",
              "      box-shadow: 0px 1px 3px 1px rgba(0, 0, 0, 0.15);\n",
              "      filter: drop-shadow(0px 1px 2px rgba(0, 0, 0, 0.3));\n",
              "      fill: #FFFFFF;\n",
              "    }\n",
              "  </style>\n",
              "\n",
              "    <script>\n",
              "      const buttonEl =\n",
              "        document.querySelector('#df-3b2a5275-b21a-4f81-90ff-b9f16c6c735d button.colab-df-convert');\n",
              "      buttonEl.style.display =\n",
              "        google.colab.kernel.accessAllowed ? 'block' : 'none';\n",
              "\n",
              "      async function convertToInteractive(key) {\n",
              "        const element = document.querySelector('#df-3b2a5275-b21a-4f81-90ff-b9f16c6c735d');\n",
              "        const dataTable =\n",
              "          await google.colab.kernel.invokeFunction('convertToInteractive',\n",
              "                                                    [key], {});\n",
              "        if (!dataTable) return;\n",
              "\n",
              "        const docLinkHtml = 'Like what you see? Visit the ' +\n",
              "          '<a target=\"_blank\" href=https://colab.research.google.com/notebooks/data_table.ipynb>data table notebook</a>'\n",
              "          + ' to learn more about interactive tables.';\n",
              "        element.innerHTML = '';\n",
              "        dataTable['output_type'] = 'display_data';\n",
              "        await google.colab.output.renderOutput(dataTable, element);\n",
              "        const docLink = document.createElement('div');\n",
              "        docLink.innerHTML = docLinkHtml;\n",
              "        element.appendChild(docLink);\n",
              "      }\n",
              "    </script>\n",
              "  </div>\n",
              "\n",
              "\n",
              "<div id=\"df-277165a2-915f-4022-a7cf-a4a6f661a827\">\n",
              "  <button class=\"colab-df-quickchart\" onclick=\"quickchart('df-277165a2-915f-4022-a7cf-a4a6f661a827')\"\n",
              "            title=\"Suggest charts\"\n",
              "            style=\"display:none;\">\n",
              "\n",
              "<svg xmlns=\"http://www.w3.org/2000/svg\" height=\"24px\"viewBox=\"0 0 24 24\"\n",
              "     width=\"24px\">\n",
              "    <g>\n",
              "        <path d=\"M19 3H5c-1.1 0-2 .9-2 2v14c0 1.1.9 2 2 2h14c1.1 0 2-.9 2-2V5c0-1.1-.9-2-2-2zM9 17H7v-7h2v7zm4 0h-2V7h2v10zm4 0h-2v-4h2v4z\"/>\n",
              "    </g>\n",
              "</svg>\n",
              "  </button>\n",
              "\n",
              "<style>\n",
              "  .colab-df-quickchart {\n",
              "      --bg-color: #E8F0FE;\n",
              "      --fill-color: #1967D2;\n",
              "      --hover-bg-color: #E2EBFA;\n",
              "      --hover-fill-color: #174EA6;\n",
              "      --disabled-fill-color: #AAA;\n",
              "      --disabled-bg-color: #DDD;\n",
              "  }\n",
              "\n",
              "  [theme=dark] .colab-df-quickchart {\n",
              "      --bg-color: #3B4455;\n",
              "      --fill-color: #D2E3FC;\n",
              "      --hover-bg-color: #434B5C;\n",
              "      --hover-fill-color: #FFFFFF;\n",
              "      --disabled-bg-color: #3B4455;\n",
              "      --disabled-fill-color: #666;\n",
              "  }\n",
              "\n",
              "  .colab-df-quickchart {\n",
              "    background-color: var(--bg-color);\n",
              "    border: none;\n",
              "    border-radius: 50%;\n",
              "    cursor: pointer;\n",
              "    display: none;\n",
              "    fill: var(--fill-color);\n",
              "    height: 32px;\n",
              "    padding: 0;\n",
              "    width: 32px;\n",
              "  }\n",
              "\n",
              "  .colab-df-quickchart:hover {\n",
              "    background-color: var(--hover-bg-color);\n",
              "    box-shadow: 0 1px 2px rgba(60, 64, 67, 0.3), 0 1px 3px 1px rgba(60, 64, 67, 0.15);\n",
              "    fill: var(--button-hover-fill-color);\n",
              "  }\n",
              "\n",
              "  .colab-df-quickchart-complete:disabled,\n",
              "  .colab-df-quickchart-complete:disabled:hover {\n",
              "    background-color: var(--disabled-bg-color);\n",
              "    fill: var(--disabled-fill-color);\n",
              "    box-shadow: none;\n",
              "  }\n",
              "\n",
              "  .colab-df-spinner {\n",
              "    border: 2px solid var(--fill-color);\n",
              "    border-color: transparent;\n",
              "    border-bottom-color: var(--fill-color);\n",
              "    animation:\n",
              "      spin 1s steps(1) infinite;\n",
              "  }\n",
              "\n",
              "  @keyframes spin {\n",
              "    0% {\n",
              "      border-color: transparent;\n",
              "      border-bottom-color: var(--fill-color);\n",
              "      border-left-color: var(--fill-color);\n",
              "    }\n",
              "    20% {\n",
              "      border-color: transparent;\n",
              "      border-left-color: var(--fill-color);\n",
              "      border-top-color: var(--fill-color);\n",
              "    }\n",
              "    30% {\n",
              "      border-color: transparent;\n",
              "      border-left-color: var(--fill-color);\n",
              "      border-top-color: var(--fill-color);\n",
              "      border-right-color: var(--fill-color);\n",
              "    }\n",
              "    40% {\n",
              "      border-color: transparent;\n",
              "      border-right-color: var(--fill-color);\n",
              "      border-top-color: var(--fill-color);\n",
              "    }\n",
              "    60% {\n",
              "      border-color: transparent;\n",
              "      border-right-color: var(--fill-color);\n",
              "    }\n",
              "    80% {\n",
              "      border-color: transparent;\n",
              "      border-right-color: var(--fill-color);\n",
              "      border-bottom-color: var(--fill-color);\n",
              "    }\n",
              "    90% {\n",
              "      border-color: transparent;\n",
              "      border-bottom-color: var(--fill-color);\n",
              "    }\n",
              "  }\n",
              "</style>\n",
              "\n",
              "  <script>\n",
              "    async function quickchart(key) {\n",
              "      const quickchartButtonEl =\n",
              "        document.querySelector('#' + key + ' button');\n",
              "      quickchartButtonEl.disabled = true;  // To prevent multiple clicks.\n",
              "      quickchartButtonEl.classList.add('colab-df-spinner');\n",
              "      try {\n",
              "        const charts = await google.colab.kernel.invokeFunction(\n",
              "            'suggestCharts', [key], {});\n",
              "      } catch (error) {\n",
              "        console.error('Error during call to suggestCharts:', error);\n",
              "      }\n",
              "      quickchartButtonEl.classList.remove('colab-df-spinner');\n",
              "      quickchartButtonEl.classList.add('colab-df-quickchart-complete');\n",
              "    }\n",
              "    (() => {\n",
              "      let quickchartButtonEl =\n",
              "        document.querySelector('#df-277165a2-915f-4022-a7cf-a4a6f661a827 button');\n",
              "      quickchartButtonEl.style.display =\n",
              "        google.colab.kernel.accessAllowed ? 'block' : 'none';\n",
              "    })();\n",
              "  </script>\n",
              "</div>\n",
              "\n",
              "    </div>\n",
              "  </div>\n"
            ],
            "application/vnd.google.colaboratory.intrinsic+json": {
              "type": "dataframe",
              "variable_name": "dataset",
              "summary": "{\n  \"name\": \"dataset\",\n  \"rows\": 178,\n  \"fields\": [\n    {\n      \"column\": \"Alcohol\",\n      \"properties\": {\n        \"dtype\": \"number\",\n        \"std\": 0.8118265380058575,\n        \"min\": 11.03,\n        \"max\": 14.83,\n        \"num_unique_values\": 126,\n        \"samples\": [\n          11.62,\n          13.64,\n          13.69\n        ],\n        \"semantic_type\": \"\",\n        \"description\": \"\"\n      }\n    },\n    {\n      \"column\": \"Malic_Acid\",\n      \"properties\": {\n        \"dtype\": \"number\",\n        \"std\": 1.1171460976144627,\n        \"min\": 0.74,\n        \"max\": 5.8,\n        \"num_unique_values\": 133,\n        \"samples\": [\n          1.21,\n          2.83,\n          1.8\n        ],\n        \"semantic_type\": \"\",\n        \"description\": \"\"\n      }\n    },\n    {\n      \"column\": \"Ash\",\n      \"properties\": {\n        \"dtype\": \"number\",\n        \"std\": 0.27434400906081485,\n        \"min\": 1.36,\n        \"max\": 3.23,\n        \"num_unique_values\": 79,\n        \"samples\": [\n          2.31,\n          2.43,\n          2.52\n        ],\n        \"semantic_type\": \"\",\n        \"description\": \"\"\n      }\n    },\n    {\n      \"column\": \"Ash_Alcanity\",\n      \"properties\": {\n        \"dtype\": \"number\",\n        \"std\": 3.339563767173505,\n        \"min\": 10.6,\n        \"max\": 30.0,\n        \"num_unique_values\": 63,\n        \"samples\": [\n          25.5,\n          28.5,\n          15.6\n        ],\n        \"semantic_type\": \"\",\n        \"description\": \"\"\n      }\n    },\n    {\n      \"column\": \"Magnesium\",\n      \"properties\": {\n        \"dtype\": \"number\",\n        \"std\": 14,\n        \"min\": 70,\n        \"max\": 162,\n        \"num_unique_values\": 53,\n        \"samples\": [\n          126,\n          85,\n          162\n        ],\n        \"semantic_type\": \"\",\n        \"description\": \"\"\n      }\n    },\n    {\n      \"column\": \"Total_Phenols\",\n      \"properties\": {\n        \"dtype\": \"number\",\n        \"std\": 0.6258510488339893,\n        \"min\": 0.98,\n        \"max\": 3.88,\n        \"num_unique_values\": 97,\n        \"samples\": [\n          1.68,\n          2.11,\n          1.35\n        ],\n        \"semantic_type\": \"\",\n        \"description\": \"\"\n      }\n    },\n    {\n      \"column\": \"Flavanoids\",\n      \"properties\": {\n        \"dtype\": \"number\",\n        \"std\": 0.9988586850169467,\n        \"min\": 0.34,\n        \"max\": 5.08,\n        \"num_unique_values\": 132,\n        \"samples\": [\n          3.18,\n          2.5,\n          3.17\n        ],\n        \"semantic_type\": \"\",\n        \"description\": \"\"\n      }\n    },\n    {\n      \"column\": \"Nonflavanoid_Phenols\",\n      \"properties\": {\n        \"dtype\": \"number\",\n        \"std\": 0.12445334029667937,\n        \"min\": 0.13,\n        \"max\": 0.66,\n        \"num_unique_values\": 39,\n        \"samples\": [\n          0.58,\n          0.41,\n          0.39\n        ],\n        \"semantic_type\": \"\",\n        \"description\": \"\"\n      }\n    },\n    {\n      \"column\": \"Proanthocyanins\",\n      \"properties\": {\n        \"dtype\": \"number\",\n        \"std\": 0.5723588626747613,\n        \"min\": 0.41,\n        \"max\": 3.58,\n        \"num_unique_values\": 101,\n        \"samples\": [\n          0.75,\n          1.77,\n          1.42\n        ],\n        \"semantic_type\": \"\",\n        \"description\": \"\"\n      }\n    },\n    {\n      \"column\": \"Color_Intensity\",\n      \"properties\": {\n        \"dtype\": \"number\",\n        \"std\": 2.318285871822413,\n        \"min\": 1.28,\n        \"max\": 13.0,\n        \"num_unique_values\": 132,\n        \"samples\": [\n          2.95,\n          3.3,\n          5.1\n        ],\n        \"semantic_type\": \"\",\n        \"description\": \"\"\n      }\n    },\n    {\n      \"column\": \"Hue\",\n      \"properties\": {\n        \"dtype\": \"number\",\n        \"std\": 0.22857156582982338,\n        \"min\": 0.48,\n        \"max\": 1.71,\n        \"num_unique_values\": 78,\n        \"samples\": [\n          1.22,\n          1.04,\n          1.45\n        ],\n        \"semantic_type\": \"\",\n        \"description\": \"\"\n      }\n    },\n    {\n      \"column\": \"OD280\",\n      \"properties\": {\n        \"dtype\": \"number\",\n        \"std\": 0.7099904287650504,\n        \"min\": 1.27,\n        \"max\": 4.0,\n        \"num_unique_values\": 122,\n        \"samples\": [\n          4.0,\n          1.82,\n          1.59\n        ],\n        \"semantic_type\": \"\",\n        \"description\": \"\"\n      }\n    },\n    {\n      \"column\": \"Proline\",\n      \"properties\": {\n        \"dtype\": \"number\",\n        \"std\": 314,\n        \"min\": 278,\n        \"max\": 1680,\n        \"num_unique_values\": 121,\n        \"samples\": [\n          1375,\n          1270,\n          735\n        ],\n        \"semantic_type\": \"\",\n        \"description\": \"\"\n      }\n    },\n    {\n      \"column\": \"Customer_Segment\",\n      \"properties\": {\n        \"dtype\": \"number\",\n        \"std\": 0,\n        \"min\": 1,\n        \"max\": 3,\n        \"num_unique_values\": 3,\n        \"samples\": [\n          1,\n          2,\n          3\n        ],\n        \"semantic_type\": \"\",\n        \"description\": \"\"\n      }\n    }\n  ]\n}"
            }
          },
          "metadata": {},
          "execution_count": 2
        }
      ]
    },
    {
      "cell_type": "markdown",
      "metadata": {
        "id": "DeugJrfQFHTO"
      },
      "source": [
        "Una vez que importamos los datos, separamos las variables independientes en la matriz X y la variable dependiente en el vector y."
      ]
    },
    {
      "cell_type": "code",
      "source": [
        "dataset.Customer_Segment.unique()"
      ],
      "metadata": {
        "colab": {
          "base_uri": "https://localhost:8080/"
        },
        "id": "e2y1lSKocrJi",
        "outputId": "c8709e8f-178c-46db-cb87-b1a98660d279"
      },
      "execution_count": null,
      "outputs": [
        {
          "output_type": "execute_result",
          "data": {
            "text/plain": [
              "array([1, 2, 3])"
            ]
          },
          "metadata": {},
          "execution_count": 3
        }
      ]
    },
    {
      "cell_type": "code",
      "metadata": {
        "id": "liowM9F5FHTP"
      },
      "source": [
        "X = dataset.iloc[:, 0:13].values\n",
        "y = dataset.iloc[:, 13].values"
      ],
      "execution_count": null,
      "outputs": []
    },
    {
      "cell_type": "markdown",
      "metadata": {
        "id": "dbo4pzxdFHTP"
      },
      "source": [
        "Ahora dividimos el conjunto de datos en dos conjuntos para entrenamiento y prueba:"
      ]
    },
    {
      "cell_type": "code",
      "metadata": {
        "id": "alO1AeW4FHTQ"
      },
      "source": [
        "from sklearn.model_selection import train_test_split\n",
        "\n",
        "X_train, X_test, y_train, y_test = train_test_split(X, y, test_size = 0.2, random_state = 0)"
      ],
      "execution_count": null,
      "outputs": []
    },
    {
      "cell_type": "markdown",
      "metadata": {
        "id": "9IcCyNi3FHTR"
      },
      "source": [
        "Nuestro siguiente paso será estandarizar las escalas para las 13 variables analizadas!"
      ]
    },
    {
      "cell_type": "code",
      "metadata": {
        "id": "12ITCUD4FHTS"
      },
      "source": [
        "from sklearn.preprocessing import StandardScaler\n",
        "sc = StandardScaler()\n",
        "X_train = sc.fit_transform(X_train)\n",
        "X_test = sc.transform(X_test)"
      ],
      "execution_count": null,
      "outputs": []
    },
    {
      "cell_type": "markdown",
      "metadata": {
        "id": "e5zhH3n9FHTV"
      },
      "source": [
        "Una vez con los datos normalizados, aplicamos el PCA para reducir la dimensión de 13 a 2 variables."
      ]
    },
    {
      "cell_type": "code",
      "metadata": {
        "id": "G56l1K7EFHTV"
      },
      "source": [
        "from sklearn.decomposition import PCA\n",
        "pca = PCA(n_components = 2)\n",
        "X_train = pca.fit_transform(X_train)\n",
        "X_test = pca.transform(X_test)"
      ],
      "execution_count": null,
      "outputs": []
    },
    {
      "cell_type": "markdown",
      "metadata": {
        "id": "QKrbZCjmFHTW"
      },
      "source": [
        "El conjunto de entrenamiento quedó ahora con 2 variables de la siguiente manera:"
      ]
    },
    {
      "cell_type": "code",
      "metadata": {
        "colab": {
          "base_uri": "https://localhost:8080/"
        },
        "id": "4Cbeg31wFHTW",
        "outputId": "8f87b184-4762-47e5-f68c-685651215757",
        "collapsed": true
      },
      "source": [
        "X_train #conjunto de entrenamiento reducido de 13 a 2 variables"
      ],
      "execution_count": null,
      "outputs": [
        {
          "output_type": "execute_result",
          "data": {
            "text/plain": [
              "array([[-2.17884511e+00, -1.07218467e+00],\n",
              "       [-1.80819239e+00,  1.57822344e+00],\n",
              "       [ 1.09829474e+00,  2.22124345e+00],\n",
              "       [-2.55584748e+00, -1.66210369e+00],\n",
              "       [ 1.85698063e+00,  2.41573166e-01],\n",
              "       [ 2.58288576e+00, -1.37668170e+00],\n",
              "       [ 8.72876119e-01,  2.25618512e+00],\n",
              "       [-4.18384029e-01,  2.35415681e+00],\n",
              "       [-3.04977245e-01,  2.27659433e+00],\n",
              "       [ 2.14082532e+00, -1.10052871e+00],\n",
              "       [-2.98136465e+00, -2.47159183e-01],\n",
              "       [ 1.96188242e+00,  1.25407738e+00],\n",
              "       [-2.16177795e+00, -9.75966550e-01],\n",
              "       [ 2.21976084e+00, -2.39507167e+00],\n",
              "       [-2.30179529e+00, -2.05791962e-01],\n",
              "       [-3.00953827e+00, -2.79141212e-01],\n",
              "       [ 2.63443473e+00, -8.68313119e-01],\n",
              "       [-1.09219965e+00, -3.53906625e+00],\n",
              "       [ 2.62578435e+00, -2.96852840e-03],\n",
              "       [ 1.98077342e-01,  2.29193443e+00],\n",
              "       [-2.67442753e+00, -2.58800132e+00],\n",
              "       [-2.54763698e+00, -4.52703891e-01],\n",
              "       [ 1.77416736e+00,  8.43586940e-01],\n",
              "       [-2.77786938e+00, -4.32090258e-01],\n",
              "       [-2.86679938e+00, -1.87580875e+00],\n",
              "       [ 1.35498845e+00,  3.99545184e-02],\n",
              "       [-2.43900474e+00,  9.44074889e-02],\n",
              "       [-2.27268121e+00,  5.05883053e-01],\n",
              "       [ 1.17887166e+00,  2.50068415e+00],\n",
              "       [-2.30673313e+00,  1.30502777e+00],\n",
              "       [-2.53020738e+00, -5.51277126e-01],\n",
              "       [ 1.63200028e-01,  1.29107817e+00],\n",
              "       [ 2.57881158e+00, -1.17515982e+00],\n",
              "       [-7.62471566e-01,  3.16097049e+00],\n",
              "       [ 2.57005937e+00, -9.66718786e-02],\n",
              "       [-4.78337042e-01,  5.77763823e-01],\n",
              "       [ 5.47417096e-01, -3.77647780e-01],\n",
              "       [ 3.55763538e+00, -1.45816125e+00],\n",
              "       [ 1.69260971e+00,  1.37844174e+00],\n",
              "       [ 2.65288395e+00, -2.39399539e-01],\n",
              "       [-3.62047411e+00, -6.90153979e-01],\n",
              "       [-1.61462317e+00, -2.41170340e+00],\n",
              "       [ 1.50959767e+00,  1.32717326e+00],\n",
              "       [ 5.36413494e-02,  2.07680094e+00],\n",
              "       [-1.07889168e-01,  2.85115217e+00],\n",
              "       [-2.39610454e+00, -2.45883860e+00],\n",
              "       [-3.12315181e+00,  4.23261512e-01],\n",
              "       [ 3.28569649e+00, -3.22859884e-01],\n",
              "       [-3.55506872e+00, -1.74242946e+00],\n",
              "       [-3.87020538e-01,  2.61510101e+00],\n",
              "       [-4.74514016e-01,  1.98023790e+00],\n",
              "       [-1.06865761e+00,  6.78906271e-01],\n",
              "       [ 1.08546036e+00,  1.30817801e+00],\n",
              "       [ 2.02340107e+00,  1.56926094e+00],\n",
              "       [ 2.76257094e+00, -1.85603600e+00],\n",
              "       [ 2.06778286e+00, -1.35861191e+00],\n",
              "       [ 9.06600653e-01,  2.04110996e+00],\n",
              "       [ 3.52336455e+00, -1.39946872e+00],\n",
              "       [-3.79914321e+00, -4.92727617e-02],\n",
              "       [ 1.75250993e+00,  4.64283651e-01],\n",
              "       [-3.46539192e+00, -7.90385134e-01],\n",
              "       [ 3.16221605e+00, -8.39879111e-01],\n",
              "       [ 2.37656864e+00, -1.72475988e+00],\n",
              "       [ 1.31278073e+00,  8.53348760e-01],\n",
              "       [ 3.57258440e+00, -1.78091597e+00],\n",
              "       [ 9.50877158e-01,  2.38927332e+00],\n",
              "       [ 4.95461316e-01,  2.16498322e+00],\n",
              "       [ 3.79294638e+00, -2.92787186e+00],\n",
              "       [-2.37978591e+00, -2.13572422e+00],\n",
              "       [-1.50346992e+00,  1.39146991e+00],\n",
              "       [ 2.50566646e+00, -1.30365941e+00],\n",
              "       [-6.97535788e-01,  2.78160736e-01],\n",
              "       [-7.25562555e-01,  2.54007170e+00],\n",
              "       [ 9.24047324e-01,  1.46344718e+00],\n",
              "       [-1.25151294e+00,  2.74792621e-02],\n",
              "       [ 2.20937835e+00, -8.05690832e-01],\n",
              "       [-3.84416995e+00, -5.74263508e-01],\n",
              "       [-1.77983157e+00, -1.38012167e+00],\n",
              "       [ 4.35413058e+00, -2.33750318e+00],\n",
              "       [ 3.33834347e+00, -1.51169086e+00],\n",
              "       [-1.44769123e+00,  1.90826204e+00],\n",
              "       [-2.75066706e+00, -2.07100640e+00],\n",
              "       [ 2.79475799e+00, -1.36659228e+00],\n",
              "       [ 1.84642601e+00, -6.82481476e-01],\n",
              "       [-4.13332842e-01,  2.20440158e+00],\n",
              "       [-4.81356617e-02,  1.17469609e+00],\n",
              "       [ 1.99166500e+00, -2.50860656e-01],\n",
              "       [ 2.26421169e+00, -1.32120813e+00],\n",
              "       [ 7.85551414e-01, -2.46487051e-01],\n",
              "       [-3.32586984e+00, -2.14485564e+00],\n",
              "       [ 1.00496881e+00,  7.20390295e-01],\n",
              "       [ 2.31479633e+00,  2.62129546e-01],\n",
              "       [ 8.67032066e-01,  1.36440259e+00],\n",
              "       [-2.28629769e+00, -4.54244754e-01],\n",
              "       [ 3.14452871e+00, -1.29318898e+00],\n",
              "       [-1.65297942e+00,  1.74177394e+00],\n",
              "       [-2.84689388e+00, -7.78426712e-02],\n",
              "       [-2.68393126e+00, -2.53813173e-01],\n",
              "       [ 1.97280128e+00, -1.70171835e+00],\n",
              "       [ 1.63120111e+00,  7.24762688e-01],\n",
              "       [-2.05082836e+00, -2.11848206e-01],\n",
              "       [ 2.28798382e+00, -1.95899701e+00],\n",
              "       [-2.28266458e+00, -2.07243579e-01],\n",
              "       [-3.45079842e-01,  1.92360626e+00],\n",
              "       [ 1.49448758e+00, -7.18673825e-01],\n",
              "       [ 2.26695932e+00, -7.93531817e-01],\n",
              "       [-3.44673144e-01,  1.92686997e+00],\n",
              "       [ 2.75927029e+00, -1.56391999e+00],\n",
              "       [-2.86839562e+00, -1.85579453e+00],\n",
              "       [-1.46228982e+00,  1.22151405e+00],\n",
              "       [-3.31754434e+00, -1.20382601e+00],\n",
              "       [ 1.72057718e+00, -1.36843828e-01],\n",
              "       [-2.90065973e+00, -3.71521776e-01],\n",
              "       [-2.30532411e+00, -2.14386284e+00],\n",
              "       [-3.51377495e+00, -1.17981731e+00],\n",
              "       [ 2.32780065e+00, -2.95396131e-01],\n",
              "       [ 1.54528723e+00,  1.99996309e+00],\n",
              "       [-3.32660657e-01,  2.37118865e+00],\n",
              "       [ 4.96648201e-01,  9.57282660e-01],\n",
              "       [ 6.69654741e-01,  3.80907536e+00],\n",
              "       [-2.76009366e+00, -1.48785734e+00],\n",
              "       [-3.19187371e+00, -2.70815669e+00],\n",
              "       [-6.05023707e-01,  1.10583182e+00],\n",
              "       [-1.34006934e+00,  1.51232906e+00],\n",
              "       [ 1.05506599e+00, -9.49724036e-01],\n",
              "       [ 1.16017702e+00,  1.39768493e+00],\n",
              "       [-2.87675356e+00, -1.15157946e+00],\n",
              "       [-2.35838421e+00, -2.44842974e+00],\n",
              "       [ 2.54704855e+00, -1.86824592e+00],\n",
              "       [ 3.20597222e+00, -1.85912926e+00],\n",
              "       [-2.69949485e+00, -1.75638262e-01],\n",
              "       [-9.67436859e-01,  1.81399824e+00],\n",
              "       [-1.46454259e+00,  1.01680272e+00],\n",
              "       [-4.04000223e-01,  2.40815711e+00],\n",
              "       [ 1.46393837e+00, -6.90763351e-01],\n",
              "       [ 1.15903114e+00, -2.91379684e-01],\n",
              "       [ 2.82057099e+00, -8.99578955e-01],\n",
              "       [-5.01011897e-01,  2.68453162e+00],\n",
              "       [ 3.30453915e-01,  2.43396193e+00],\n",
              "       [ 1.09727608e-02,  1.99585453e+00],\n",
              "       [ 2.89176687e+00, -7.71555485e-01],\n",
              "       [-2.44830439e+00, -2.11360296e+00]])"
            ]
          },
          "metadata": {},
          "execution_count": 13
        }
      ]
    },
    {
      "cell_type": "code",
      "metadata": {
        "colab": {
          "base_uri": "https://localhost:8080/"
        },
        "id": "3x5MvKFzFHTX",
        "outputId": "db9a09d0-e699-4e73-d1ba-424b241d181c",
        "collapsed": true
      },
      "source": [
        "#Lo mismo sucedió con el conjunto de pruebas X_test\n",
        "X_test"
      ],
      "execution_count": null,
      "outputs": [
        {
          "output_type": "execute_result",
          "data": {
            "text/plain": [
              "array([[ 2.20685211e+00, -1.02850086e+00],\n",
              "       [-2.53651962e+00, -1.83644227e+00],\n",
              "       [ 2.19183305e+00,  1.81240519e+00],\n",
              "       [ 2.51489251e+00, -1.38907803e+00],\n",
              "       [-3.47991313e-01,  5.25397912e-01],\n",
              "       [ 1.44174066e+00, -2.89674514e-01],\n",
              "       [ 2.11892046e+00, -1.62960181e+00],\n",
              "       [-3.06045961e+00, -6.70950629e-01],\n",
              "       [-2.35436876e-01,  2.16810201e+00],\n",
              "       [-1.21230749e+00,  2.12204944e+00],\n",
              "       [-2.20706720e+00, -2.61457262e-01],\n",
              "       [-4.19759580e+00, -5.36505538e-01],\n",
              "       [ 3.11063501e+00, -2.26380692e+00],\n",
              "       [ 2.39878282e+00,  1.29482006e+00],\n",
              "       [-2.16102953e+00, -1.95327620e+00],\n",
              "       [ 9.26627235e-01,  3.35678339e+00],\n",
              "       [ 1.96950425e+00, -1.65130081e+00],\n",
              "       [ 3.61413167e+00, -2.68087967e+00],\n",
              "       [-1.71986182e+00,  9.29936963e-01],\n",
              "       [ 2.93212799e+00, -8.79320756e-01],\n",
              "       [ 2.36911995e+00,  1.73171845e+00],\n",
              "       [ 1.23368522e+00, -1.56525793e-01],\n",
              "       [ 1.07525557e+00, -8.97240861e-01],\n",
              "       [ 5.30182248e-01,  2.07877544e+00],\n",
              "       [-1.39577506e+00,  1.45769587e+00],\n",
              "       [-1.31398888e-01,  1.92300751e+00],\n",
              "       [ 1.63520155e-01,  1.20901871e+00],\n",
              "       [-6.57932499e-01,  2.26380220e+00],\n",
              "       [-1.17987065e+00,  8.18306993e-01],\n",
              "       [-2.90894649e+00, -1.42996829e+00],\n",
              "       [ 1.87424562e+00, -8.00289998e-01],\n",
              "       [ 2.78042761e+00, -1.51686134e+00],\n",
              "       [-1.64977882e+00,  1.13772685e+00],\n",
              "       [ 1.20470322e+00, -1.83160348e+00],\n",
              "       [ 2.58037819e+00, -1.06341435e+00],\n",
              "       [ 2.18512179e+00, -5.10806875e-04]])"
            ]
          },
          "metadata": {},
          "execution_count": 14
        }
      ]
    },
    {
      "cell_type": "code",
      "metadata": {
        "colab": {
          "base_uri": "https://localhost:8080/"
        },
        "id": "uFfM-IM-FHTY",
        "outputId": "b355c95d-37fb-4133-d307-d24609ebec8f"
      },
      "source": [
        "# Explicación de la varianza de las componentes\n",
        "explained_variance = pca.explained_variance_ratio_\n",
        "explained_variance\n",
        "\n",
        "#El primero componente explica el 36.9% de la variabilidad de mis datos y el segundo el 19.3%"
      ],
      "execution_count": null,
      "outputs": [
        {
          "output_type": "execute_result",
          "data": {
            "text/plain": [
              "array([0.36884109, 0.19318394])"
            ]
          },
          "metadata": {},
          "execution_count": 23
        }
      ]
    },
    {
      "cell_type": "markdown",
      "metadata": {
        "id": "ckKmY0DSFHTY"
      },
      "source": [
        "Para comprobar que las dos componentes resultantes representan a las 13 variables originales vamos a hacer la predicción de la variable dependiente con la regresión logística, comprobando los resultados de predicción con la matriz de confusión:"
      ]
    },
    {
      "cell_type": "code",
      "metadata": {
        "colab": {
          "base_uri": "https://localhost:8080/"
        },
        "id": "l1kFFc70FHTZ",
        "outputId": "4e46bca5-1cdf-4976-c0b8-a58e26dc5a5e"
      },
      "source": [
        "from sklearn.linear_model import LogisticRegression\n",
        "Reg_Log = LogisticRegression(random_state = 0)\n",
        "Reg_Log.fit(X_train, y_train)\n",
        "\n",
        "# Predicting the Test set results\n",
        "y_pred = Reg_Log.predict(X_test)\n",
        "\n",
        "# Making the Confusion Matrix\n",
        "from sklearn.metrics import confusion_matrix\n",
        "cm = confusion_matrix(y_test, y_pred)\n",
        "cm"
      ],
      "execution_count": null,
      "outputs": [
        {
          "output_type": "execute_result",
          "data": {
            "text/plain": [
              "array([[14,  0,  0],\n",
              "       [ 1, 15,  0],\n",
              "       [ 0,  0,  6]])"
            ]
          },
          "metadata": {},
          "execution_count": 24
        }
      ]
    },
    {
      "cell_type": "markdown",
      "metadata": {
        "id": "Ha6BWr0CFHTa"
      },
      "source": [
        "**Insights**:\n",
        "\n",
        "Como se observa en la matriz de confusión, sólo hay un error, un falso positivo en la primera de las tres clases de vinos. Por lo que concluimos que la predicción es correcta utilizando el conjunto de datos de dos variables, en lugar del conjunto de datos de 13 variables."
      ]
    },
    {
      "cell_type": "code",
      "source": [
        "from sklearn.metrics import r2_score\n",
        "print('El r^2 es:',r2_score(y_test,y_pred))"
      ],
      "metadata": {
        "colab": {
          "base_uri": "https://localhost:8080/"
        },
        "id": "sq9RAFFAmCFr",
        "outputId": "1a7a2667-cefd-4519-ce95-9a1965552636"
      },
      "execution_count": null,
      "outputs": [
        {
          "output_type": "stream",
          "name": "stdout",
          "text": [
            "El r^2 es: 0.9451219512195121\n"
          ]
        }
      ]
    }
  ]
}