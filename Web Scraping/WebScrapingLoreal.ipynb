{
  "cells": [
    {
      "cell_type": "code",
      "execution_count": 1,
      "id": "c6ff10cd",
      "metadata": {
        "colab": {
          "base_uri": "https://localhost:8080/"
        },
        "id": "c6ff10cd",
        "outputId": "71604e39-cfb3-45e4-e9fa-b6dc57aeeedd"
      },
      "outputs": [
        {
          "name": "stdout",
          "output_type": "stream",
          "text": [
            "Collecting bs4\n",
            "  Downloading bs4-0.0.2-py2.py3-none-any.whl.metadata (411 bytes)\n",
            "Requirement already satisfied: beautifulsoup4 in c:\\users\\victus\\appdata\\local\\packages\\pythonsoftwarefoundation.python.3.11_qbz5n2kfra8p0\\localcache\\local-packages\\python311\\site-packages (from bs4) (4.12.3)\n",
            "Requirement already satisfied: soupsieve>1.2 in c:\\users\\victus\\appdata\\local\\packages\\pythonsoftwarefoundation.python.3.11_qbz5n2kfra8p0\\localcache\\local-packages\\python311\\site-packages (from beautifulsoup4->bs4) (2.5)\n",
            "Downloading bs4-0.0.2-py2.py3-none-any.whl (1.2 kB)\n",
            "Installing collected packages: bs4\n",
            "Successfully installed bs4-0.0.2\n"
          ]
        }
      ],
      "source": [
        "!pip install bs4"
      ]
    },
    {
      "cell_type": "markdown",
      "id": "uRERZ9DbOx1o",
      "metadata": {
        "id": "uRERZ9DbOx1o"
      },
      "source": [
        "WEB LOREAL\n",
        "\n",
        "https://salones-es.lorealprofessionnel.com/ar/santa-fe/rosario"
      ]
    },
    {
      "cell_type": "code",
      "execution_count": 3,
      "id": "68c73421",
      "metadata": {
        "id": "68c73421"
      },
      "outputs": [],
      "source": [
        "from bs4 import BeautifulSoup #libreria que convierte documentos HTML y XML en arboles de objetos python, se usa para web sraping\n",
        "import requests\n",
        "import pandas as pd"
      ]
    },
    {
      "cell_type": "code",
      "execution_count": 4,
      "id": "7d113a8b",
      "metadata": {
        "colab": {
          "base_uri": "https://localhost:8080/"
        },
        "id": "7d113a8b",
        "outputId": "8af40a20-11af-48d8-d85a-c3033269ca8c"
      },
      "outputs": [
        {
          "data": {
            "text/plain": [
              "8"
            ]
          },
          "execution_count": 4,
          "metadata": {},
          "output_type": "execute_result"
        }
      ],
      "source": [
        "links=['https://salones-es.lorealprofessionnel.com/ar/santa-fe/rosario'] #url general\n",
        "for i in range(2,9):\n",
        "    links.append('https://salones-es.lorealprofessionnel.com/ar/santa-fe/rosario?page='+str(i)) #url a cada pagina interna\n",
        "len(links)"
      ]
    },
    {
      "cell_type": "code",
      "execution_count": 5,
      "id": "c26a1b87",
      "metadata": {
        "id": "c26a1b87"
      },
      "outputs": [],
      "source": [
        "direcciones = []\n",
        "nombres = []"
      ]
    },
    {
      "cell_type": "code",
      "execution_count": 6,
      "id": "7faeed0c",
      "metadata": {
        "id": "7faeed0c"
      },
      "outputs": [],
      "source": [
        "for i in links:\n",
        "    url = i\n",
        "    r = requests.get(url)\n",
        "    soup = BeautifulSoup(r.content,'html.parser') #crea un objeto beautifulsoup a partir del contenido html de la rta, me lo estructura en texto\n",
        "    #html.parser indica que se utilizara el analizador html incorporado en python \n",
        "    for j in soup.find_all('span',class_=\"lf-location-default__content__container__header__title__text lf-geo-divisions__top__wrapper__main__locations__list__location__content__container__header__title__text\"): #me traigo los nombres de los salones, esta ruta la saco del html\n",
        "        nombres.append(j.text)\n",
        "    for k in soup.find_all('span',class_=\"lf-parts-address__content__street lf-location-default__content__container__address__content__street lf-geo-divisions__top__wrapper__main__locations__list__location__content__container__address__content__street\"): #me tarigo las direcciones de los salones\n",
        "        direcciones.append(k.text)"
      ]
    },
    {
      "cell_type": "code",
      "execution_count": 7,
      "id": "Q2kPWFw01LLu",
      "metadata": {
        "colab": {
          "base_uri": "https://localhost:8080/"
        },
        "id": "Q2kPWFw01LLu",
        "outputId": "86be5c50-b525-442c-b525-c1cccd7ce112"
      },
      "outputs": [
        {
          "data": {
            "text/plain": [
              "['Pje. Mossi 6072',\n",
              " 'Tres de Febrero 2398Local 2',\n",
              " 'Santa Fe 1780',\n",
              " 'Tucumán 1888',\n",
              " 'San Juan 825',\n",
              " 'Alvear 581',\n",
              " 'Sarmiento 585Loc. 31',\n",
              " 'Sarmiento 1373Loc. 1',\n",
              " 'MENDOZA 5638',\n",
              " 'Alberdi 583',\n",
              " '25 De Mayo 250',\n",
              " 'Italia 501',\n",
              " 'Rioja 654',\n",
              " 'Italia 450',\n",
              " 'San Lorenzo 743',\n",
              " 'San Martín 585',\n",
              " 'Mitre 1357',\n",
              " 'Larrechea 887',\n",
              " 'Provincias Unidas 721 Bis',\n",
              " 'Génova 1538',\n",
              " 'Remedios de Escalada de San Martín',\n",
              " 'Rioja 1072',\n",
              " 'Italia 1268',\n",
              " 'Salta 1316',\n",
              " 'Córdoba 1555Loc. 1° Piso',\n",
              " 'Sarmiento 985',\n",
              " 'Sarmiento 328',\n",
              " 'Mendoza 3692',\n",
              " 'Junín 2055',\n",
              " 'Juan Domingo Perón 2424',\n",
              " 'Mendoza 4236',\n",
              " 'Garay 2709',\n",
              " 'Rioja 867',\n",
              " 'Pje. Álvarez 1524',\n",
              " 'Bv. Seguí 1292',\n",
              " 'Av. Belgrano 28',\n",
              " 'Santiago 748',\n",
              " 'Punta Lara 372',\n",
              " 'Carballo 220Loc. C',\n",
              " 'Mendoza 1563',\n",
              " 'Maipú 2366',\n",
              " 'Corrientes 1719Dpto. 25',\n",
              " 'Mendoza 4236',\n",
              " 'Tucumán 1763',\n",
              " 'Ricchieri 458',\n",
              " 'Gallo 775',\n",
              " 'Rioja 1342',\n",
              " 'Zeballos 1616P.B. 1',\n",
              " 'Libertad 490',\n",
              " '3 de Febrero 1015',\n",
              " 'Belgrano 1939',\n",
              " 'Santiago 3575',\n",
              " 'Belgrano 1275',\n",
              " 'Buenos Aires 2369',\n",
              " 'Benegas 8842',\n",
              " '12 de Octubre 2280',\n",
              " '3 de Febrero 540',\n",
              " 'Iriondo 2151',\n",
              " 'Carcaraña 591',\n",
              " 'Balcarce 3351',\n",
              " 'Juan Manuel de Rosas 2170',\n",
              " '3 de Febrero 2099',\n",
              " 'Montevideo 807',\n",
              " 'Riobamba 1387',\n",
              " 'Montevideo 1088',\n",
              " 'Sarmiento 738',\n",
              " '9 de Julio 492',\n",
              " 'Pte. Roca 1115',\n",
              " 'Laprida 1489',\n",
              " 'Catamarca 2246',\n",
              " 'Dorrego 2402',\n",
              " 'Santa Fe 160',\n",
              " 'Lagos 739',\n",
              " 'Pasaje Robertson 3393',\n",
              " 'Laprida 878',\n",
              " 'Balcarce 92 Bis',\n",
              " 'Ssan Luis 668',\n",
              " 'Mariano Moreno 1301',\n",
              " 'Tucumán 210',\n",
              " 'Mitre 374',\n",
              " 'España 1212',\n",
              " 'Laprida 1082',\n",
              " 'Mitre 1180',\n",
              " 'Fleming 557',\n",
              " 'Necochea 1866',\n",
              " 'Alem 1723',\n",
              " 'Bv. Ocampo 10701º Piso Dpto. 5',\n",
              " '3 de Febrero 278',\n",
              " 'Italia 24 Bis',\n",
              " 'Angelome 2536',\n",
              " 'Sarmiento 1555',\n",
              " 'Pueyrredón 868',\n",
              " 'Uriburu 1491Loc. 2',\n",
              " 'Dorrego 907',\n",
              " 'Pueyrredón 1429',\n",
              " 'Iriondo 2657',\n",
              " 'Mitre y Garibaldi',\n",
              " 'Moreno 417Dpto. 1°',\n",
              " 'Guatemala 202',\n",
              " 'Necochea 422',\n",
              " 'Regimiento 11 N° 1117',\n",
              " 'Ovidio Lagos 3810Loc. 2',\n",
              " 'Presidente Roca 667',\n",
              " 'Av. Alberdi 696',\n",
              " 'Viamonte 165',\n",
              " 'AVDA Genova 1116',\n",
              " 'Bv. Oroño 178Bis',\n",
              " 'Rivarola 8034',\n",
              " 'Av. Alberdi 1029',\n",
              " 'Mitre 960Loc. 18',\n",
              " 'Paraguay 485',\n",
              " 'Mariano Moreno 1167',\n",
              " 'Balcarce 223',\n",
              " 'Rojas 1437',\n",
              " 'Entre Ríos 326',\n",
              " 'Santa Fe 54',\n",
              " 'Entre Ríos 2513',\n",
              " 'Av. Fuerza Aérea 3089Loc. 4',\n",
              " 'Ovidio Lagos 1325',\n",
              " 'Necochea 1272',\n",
              " 'Paraguay 1074',\n",
              " 'Tucumán 1622',\n",
              " 'Paraguay 643',\n",
              " 'San Luis 1971Monoblock',\n",
              " 'Elorza 1962',\n",
              " 'Bv. Oroño 747',\n",
              " 'Av. Brasil 1452',\n",
              " 'Italia 1023',\n",
              " 'Cafferata 680',\n",
              " 'Corrientes 729',\n",
              " 'San Luis 1554',\n",
              " 'Córdoba 1643Piso 2°',\n",
              " 'Sarmiento 1373',\n",
              " 'Mitre 1294',\n",
              " 'Las Heras 1756',\n",
              " 'Corrientes 1958',\n",
              " '3 De Febrero 1191',\n",
              " '50 Nº 715',\n",
              " 'Corrientes 1593',\n",
              " '9 De Julio 451',\n",
              " 'Mitre 581',\n",
              " 'Constitución 655',\n",
              " 'San Lorenzo 896',\n",
              " 'Mitre 1295',\n",
              " 'Montevideo 290',\n",
              " 'Mariano Moreno 1436',\n",
              " 'PRESIDENTE ROCA 614',\n",
              " 'Belgrano 814',\n",
              " 'España 1063',\n",
              " 'Tucumán 973']"
            ]
          },
          "execution_count": 7,
          "metadata": {},
          "output_type": "execute_result"
        }
      ],
      "source": [
        "direcciones"
      ]
    },
    {
      "cell_type": "code",
      "execution_count": 8,
      "id": "996895bb",
      "metadata": {
        "id": "996895bb"
      },
      "outputs": [],
      "source": [
        "dic = {'Nombre':nombres,'Dirección':direcciones}\n",
        "data = pd.DataFrame(dic) #transformo en este dataframe"
      ]
    },
    {
      "cell_type": "code",
      "execution_count": 9,
      "id": "c5cf9016",
      "metadata": {
        "colab": {
          "base_uri": "https://localhost:8080/",
          "height": 424
        },
        "id": "c5cf9016",
        "outputId": "386c494d-f20a-460d-d0fc-de83305300a2"
      },
      "outputs": [
        {
          "data": {
            "text/html": [
              "<div>\n",
              "<style scoped>\n",
              "    .dataframe tbody tr th:only-of-type {\n",
              "        vertical-align: middle;\n",
              "    }\n",
              "\n",
              "    .dataframe tbody tr th {\n",
              "        vertical-align: top;\n",
              "    }\n",
              "\n",
              "    .dataframe thead th {\n",
              "        text-align: right;\n",
              "    }\n",
              "</style>\n",
              "<table border=\"1\" class=\"dataframe\">\n",
              "  <thead>\n",
              "    <tr style=\"text-align: right;\">\n",
              "      <th></th>\n",
              "      <th>Nombre</th>\n",
              "      <th>Dirección</th>\n",
              "    </tr>\n",
              "  </thead>\n",
              "  <tbody>\n",
              "    <tr>\n",
              "      <th>0</th>\n",
              "      <td>Stylo Almendra</td>\n",
              "      <td>Pje. Mossi 6072</td>\n",
              "    </tr>\n",
              "    <tr>\n",
              "      <th>1</th>\n",
              "      <td>Balgias Estilistas</td>\n",
              "      <td>Tres de Febrero 2398Local 2</td>\n",
              "    </tr>\n",
              "    <tr>\n",
              "      <th>2</th>\n",
              "      <td>Tony Barmann Salón de Peinados</td>\n",
              "      <td>Santa Fe 1780</td>\n",
              "    </tr>\n",
              "    <tr>\n",
              "      <th>3</th>\n",
              "      <td>Néstor Tamagna Salón Unisex</td>\n",
              "      <td>Tucumán 1888</td>\n",
              "    </tr>\n",
              "    <tr>\n",
              "      <th>4</th>\n",
              "      <td>Néstor</td>\n",
              "      <td>San Juan 825</td>\n",
              "    </tr>\n",
              "    <tr>\n",
              "      <th>...</th>\n",
              "      <td>...</td>\n",
              "      <td>...</td>\n",
              "    </tr>\n",
              "    <tr>\n",
              "      <th>145</th>\n",
              "      <td>Ale De Melo</td>\n",
              "      <td>Mariano Moreno 1436</td>\n",
              "    </tr>\n",
              "    <tr>\n",
              "      <th>146</th>\n",
              "      <td>Agustín Prefasio HairStyle Professional</td>\n",
              "      <td>PRESIDENTE ROCA 614</td>\n",
              "    </tr>\n",
              "    <tr>\n",
              "      <th>147</th>\n",
              "      <td>Alejandra Peluquería</td>\n",
              "      <td>Belgrano 814</td>\n",
              "    </tr>\n",
              "    <tr>\n",
              "      <th>148</th>\n",
              "      <td>ACP</td>\n",
              "      <td>España 1063</td>\n",
              "    </tr>\n",
              "    <tr>\n",
              "      <th>149</th>\n",
              "      <td>Adrián Manassero y René Manassero</td>\n",
              "      <td>Tucumán 973</td>\n",
              "    </tr>\n",
              "  </tbody>\n",
              "</table>\n",
              "<p>150 rows × 2 columns</p>\n",
              "</div>"
            ],
            "text/plain": [
              "                                      Nombre                    Dirección\n",
              "0                             Stylo Almendra              Pje. Mossi 6072\n",
              "1                         Balgias Estilistas  Tres de Febrero 2398Local 2\n",
              "2             Tony Barmann Salón de Peinados                Santa Fe 1780\n",
              "3                Néstor Tamagna Salón Unisex                 Tucumán 1888\n",
              "4                                     Néstor                 San Juan 825\n",
              "..                                       ...                          ...\n",
              "145                              Ale De Melo          Mariano Moreno 1436\n",
              "146  Agustín Prefasio HairStyle Professional          PRESIDENTE ROCA 614\n",
              "147                     Alejandra Peluquería                 Belgrano 814\n",
              "148                                      ACP                  España 1063\n",
              "149        Adrián Manassero y René Manassero                  Tucumán 973\n",
              "\n",
              "[150 rows x 2 columns]"
            ]
          },
          "execution_count": 9,
          "metadata": {},
          "output_type": "execute_result"
        }
      ],
      "source": [
        "data"
      ]
    }
  ],
  "metadata": {
    "colab": {
      "provenance": []
    },
    "kernelspec": {
      "display_name": "Python 3",
      "language": "python",
      "name": "python3"
    },
    "language_info": {
      "codemirror_mode": {
        "name": "ipython",
        "version": 3
      },
      "file_extension": ".py",
      "mimetype": "text/x-python",
      "name": "python",
      "nbconvert_exporter": "python",
      "pygments_lexer": "ipython3",
      "version": "3.11.9"
    }
  },
  "nbformat": 4,
  "nbformat_minor": 5
}
